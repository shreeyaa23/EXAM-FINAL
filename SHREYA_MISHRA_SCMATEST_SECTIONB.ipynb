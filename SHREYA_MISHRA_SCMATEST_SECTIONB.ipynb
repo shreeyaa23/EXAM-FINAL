{
 "cells": [
  {
   "cell_type": "code",
   "execution_count": 1,
   "id": "c523ac8b-d527-469c-99e5-334234314229",
   "metadata": {},
   "outputs": [],
   "source": [
    "import numpy as np\n",
    "import matplotlib.pyplot as plt\n",
    "import math\n",
    "import pandas as pd\n",
    "from keras.models import Sequential\n",
    "from keras.layers import Dense,Input\n",
    "from keras.layers import LSTM, Flatten\n",
    "from sklearn.preprocessing import MinMaxScaler\n",
    "from sklearn.metrics import mean_squared_error"
   ]
  },
  {
   "cell_type": "code",
   "execution_count": 4,
   "id": "734410c1-9417-43a7-95b7-93acc5eaf2bc",
   "metadata": {},
   "outputs": [
    {
     "name": "stdout",
     "output_type": "stream",
     "text": [
      "Unnamed: 0      object\n",
      "CRUDE_PETRO    float64\n",
      "CRUDE_BRENT    float64\n",
      "CRUDE_DUBAI    float64\n",
      "CRUDE_WTI       object\n",
      "                ...   \n",
      "NICKEL         float64\n",
      "Zinc           float64\n",
      "GOLD           float64\n",
      "PLATINUM       float64\n",
      "SILVER         float64\n",
      "Length: 72, dtype: object\n"
     ]
    }
   ],
   "source": [
    "df = pd.read_excel(\"/Users/shreyamishra/Desktop/CMO-Historical-Data-Monthly.xlsx\")\n",
    "print(df.dtypes)"
   ]
  },
  {
   "cell_type": "code",
   "execution_count": 5,
   "id": "3c79c641-23fa-41ff-b28c-8233876f7e3c",
   "metadata": {},
   "outputs": [
    {
     "data": {
      "text/html": [
       "<div>\n",
       "<style scoped>\n",
       "    .dataframe tbody tr th:only-of-type {\n",
       "        vertical-align: middle;\n",
       "    }\n",
       "\n",
       "    .dataframe tbody tr th {\n",
       "        vertical-align: top;\n",
       "    }\n",
       "\n",
       "    .dataframe thead th {\n",
       "        text-align: right;\n",
       "    }\n",
       "</style>\n",
       "<table border=\"1\" class=\"dataframe\">\n",
       "  <thead>\n",
       "    <tr style=\"text-align: right;\">\n",
       "      <th></th>\n",
       "      <th>Unnamed: 0</th>\n",
       "      <th>CRUDE_PETRO</th>\n",
       "      <th>CRUDE_BRENT</th>\n",
       "      <th>CRUDE_DUBAI</th>\n",
       "      <th>CRUDE_WTI</th>\n",
       "      <th>COAL_AUS</th>\n",
       "      <th>COAL_SAFRICA</th>\n",
       "      <th>NGAS_US</th>\n",
       "      <th>NGAS_EUR</th>\n",
       "      <th>NGAS_JP</th>\n",
       "      <th>...</th>\n",
       "      <th>ALUMINUM</th>\n",
       "      <th>IRON_ORE</th>\n",
       "      <th>COPPER</th>\n",
       "      <th>LEAD</th>\n",
       "      <th>Tin</th>\n",
       "      <th>NICKEL</th>\n",
       "      <th>Zinc</th>\n",
       "      <th>GOLD</th>\n",
       "      <th>PLATINUM</th>\n",
       "      <th>SILVER</th>\n",
       "    </tr>\n",
       "  </thead>\n",
       "  <tbody>\n",
       "    <tr>\n",
       "      <th>0</th>\n",
       "      <td>1960M01</td>\n",
       "      <td>1.63</td>\n",
       "      <td>1.63</td>\n",
       "      <td>1.63</td>\n",
       "      <td>…</td>\n",
       "      <td>…</td>\n",
       "      <td>…</td>\n",
       "      <td>0.14</td>\n",
       "      <td>0.404774</td>\n",
       "      <td>…</td>\n",
       "      <td>...</td>\n",
       "      <td>511.471832</td>\n",
       "      <td>11.42</td>\n",
       "      <td>715.40</td>\n",
       "      <td>206.1</td>\n",
       "      <td>2180.4</td>\n",
       "      <td>1631.0</td>\n",
       "      <td>260.8</td>\n",
       "      <td>35.27</td>\n",
       "      <td>83.5</td>\n",
       "      <td>0.9137</td>\n",
       "    </tr>\n",
       "    <tr>\n",
       "      <th>1</th>\n",
       "      <td>1960M02</td>\n",
       "      <td>1.63</td>\n",
       "      <td>1.63</td>\n",
       "      <td>1.63</td>\n",
       "      <td>…</td>\n",
       "      <td>…</td>\n",
       "      <td>…</td>\n",
       "      <td>0.14</td>\n",
       "      <td>0.404774</td>\n",
       "      <td>…</td>\n",
       "      <td>...</td>\n",
       "      <td>511.471832</td>\n",
       "      <td>11.42</td>\n",
       "      <td>728.19</td>\n",
       "      <td>203.7</td>\n",
       "      <td>2180.4</td>\n",
       "      <td>1631.0</td>\n",
       "      <td>244.9</td>\n",
       "      <td>35.27</td>\n",
       "      <td>83.5</td>\n",
       "      <td>0.9137</td>\n",
       "    </tr>\n",
       "    <tr>\n",
       "      <th>2</th>\n",
       "      <td>1960M03</td>\n",
       "      <td>1.63</td>\n",
       "      <td>1.63</td>\n",
       "      <td>1.63</td>\n",
       "      <td>…</td>\n",
       "      <td>…</td>\n",
       "      <td>…</td>\n",
       "      <td>0.14</td>\n",
       "      <td>0.404774</td>\n",
       "      <td>…</td>\n",
       "      <td>...</td>\n",
       "      <td>511.471832</td>\n",
       "      <td>11.42</td>\n",
       "      <td>684.94</td>\n",
       "      <td>210.3</td>\n",
       "      <td>2173.8</td>\n",
       "      <td>1631.0</td>\n",
       "      <td>248.7</td>\n",
       "      <td>35.27</td>\n",
       "      <td>83.5</td>\n",
       "      <td>0.9137</td>\n",
       "    </tr>\n",
       "    <tr>\n",
       "      <th>3</th>\n",
       "      <td>1960M04</td>\n",
       "      <td>1.63</td>\n",
       "      <td>1.63</td>\n",
       "      <td>1.63</td>\n",
       "      <td>…</td>\n",
       "      <td>…</td>\n",
       "      <td>…</td>\n",
       "      <td>0.14</td>\n",
       "      <td>0.404774</td>\n",
       "      <td>…</td>\n",
       "      <td>...</td>\n",
       "      <td>511.471832</td>\n",
       "      <td>11.42</td>\n",
       "      <td>723.11</td>\n",
       "      <td>213.6</td>\n",
       "      <td>2178.2</td>\n",
       "      <td>1631.0</td>\n",
       "      <td>254.6</td>\n",
       "      <td>35.27</td>\n",
       "      <td>83.5</td>\n",
       "      <td>0.9137</td>\n",
       "    </tr>\n",
       "    <tr>\n",
       "      <th>4</th>\n",
       "      <td>1960M05</td>\n",
       "      <td>1.63</td>\n",
       "      <td>1.63</td>\n",
       "      <td>1.63</td>\n",
       "      <td>…</td>\n",
       "      <td>…</td>\n",
       "      <td>…</td>\n",
       "      <td>0.14</td>\n",
       "      <td>0.404774</td>\n",
       "      <td>…</td>\n",
       "      <td>...</td>\n",
       "      <td>511.471832</td>\n",
       "      <td>11.42</td>\n",
       "      <td>684.75</td>\n",
       "      <td>213.4</td>\n",
       "      <td>2162.7</td>\n",
       "      <td>1631.0</td>\n",
       "      <td>253.8</td>\n",
       "      <td>35.27</td>\n",
       "      <td>83.5</td>\n",
       "      <td>0.9137</td>\n",
       "    </tr>\n",
       "  </tbody>\n",
       "</table>\n",
       "<p>5 rows × 72 columns</p>\n",
       "</div>"
      ],
      "text/plain": [
       "  Unnamed: 0  CRUDE_PETRO  CRUDE_BRENT  CRUDE_DUBAI CRUDE_WTI COAL_AUS  \\\n",
       "0    1960M01         1.63         1.63         1.63         …        …   \n",
       "1    1960M02         1.63         1.63         1.63         …        …   \n",
       "2    1960M03         1.63         1.63         1.63         …        …   \n",
       "3    1960M04         1.63         1.63         1.63         …        …   \n",
       "4    1960M05         1.63         1.63         1.63         …        …   \n",
       "\n",
       "  COAL_SAFRICA  NGAS_US  NGAS_EUR NGAS_JP  ...    ALUMINUM  IRON_ORE  COPPER  \\\n",
       "0            …     0.14  0.404774       …  ...  511.471832     11.42  715.40   \n",
       "1            …     0.14  0.404774       …  ...  511.471832     11.42  728.19   \n",
       "2            …     0.14  0.404774       …  ...  511.471832     11.42  684.94   \n",
       "3            …     0.14  0.404774       …  ...  511.471832     11.42  723.11   \n",
       "4            …     0.14  0.404774       …  ...  511.471832     11.42  684.75   \n",
       "\n",
       "    LEAD     Tin  NICKEL   Zinc   GOLD  PLATINUM  SILVER  \n",
       "0  206.1  2180.4  1631.0  260.8  35.27      83.5  0.9137  \n",
       "1  203.7  2180.4  1631.0  244.9  35.27      83.5  0.9137  \n",
       "2  210.3  2173.8  1631.0  248.7  35.27      83.5  0.9137  \n",
       "3  213.6  2178.2  1631.0  254.6  35.27      83.5  0.9137  \n",
       "4  213.4  2162.7  1631.0  253.8  35.27      83.5  0.9137  \n",
       "\n",
       "[5 rows x 72 columns]"
      ]
     },
     "execution_count": 5,
     "metadata": {},
     "output_type": "execute_result"
    }
   ],
   "source": [
    "df.head()"
   ]
  },
  {
   "cell_type": "code",
   "execution_count": 6,
   "id": "c3250709-bb68-48ae-a1f3-78d2f3c764e7",
   "metadata": {},
   "outputs": [],
   "source": [
    "# Rename the first unnamed column to 'Date'\n",
    "df.rename(columns={df.columns[0]: 'Date'}, inplace=True)"
   ]
  },
  {
   "cell_type": "code",
   "execution_count": 7,
   "id": "f4979485-aacf-46e0-9e67-883b717c9c90",
   "metadata": {},
   "outputs": [],
   "source": [
    "# Convert the 'Date' column to date format\n",
    "df['Date'] = pd.to_datetime(df['Date'].astype(str), format='%YM%m')"
   ]
  },
  {
   "cell_type": "code",
   "execution_count": 8,
   "id": "bdee3151-7f10-41d9-858b-1aff140d599b",
   "metadata": {},
   "outputs": [],
   "source": [
    "df.set_index(\"Date\", inplace=True)"
   ]
  },
  {
   "cell_type": "code",
   "execution_count": 9,
   "id": "7a79afab-499b-453b-ba07-1956966c3134",
   "metadata": {},
   "outputs": [
    {
     "data": {
      "text/html": [
       "<div>\n",
       "<style scoped>\n",
       "    .dataframe tbody tr th:only-of-type {\n",
       "        vertical-align: middle;\n",
       "    }\n",
       "\n",
       "    .dataframe tbody tr th {\n",
       "        vertical-align: top;\n",
       "    }\n",
       "\n",
       "    .dataframe thead th {\n",
       "        text-align: right;\n",
       "    }\n",
       "</style>\n",
       "<table border=\"1\" class=\"dataframe\">\n",
       "  <thead>\n",
       "    <tr style=\"text-align: right;\">\n",
       "      <th></th>\n",
       "      <th>CRUDE_PETRO</th>\n",
       "      <th>CRUDE_BRENT</th>\n",
       "      <th>CRUDE_DUBAI</th>\n",
       "      <th>CRUDE_WTI</th>\n",
       "      <th>COAL_AUS</th>\n",
       "      <th>COAL_SAFRICA</th>\n",
       "      <th>NGAS_US</th>\n",
       "      <th>NGAS_EUR</th>\n",
       "      <th>NGAS_JP</th>\n",
       "      <th>iNATGAS</th>\n",
       "      <th>...</th>\n",
       "      <th>ALUMINUM</th>\n",
       "      <th>IRON_ORE</th>\n",
       "      <th>COPPER</th>\n",
       "      <th>LEAD</th>\n",
       "      <th>Tin</th>\n",
       "      <th>NICKEL</th>\n",
       "      <th>Zinc</th>\n",
       "      <th>GOLD</th>\n",
       "      <th>PLATINUM</th>\n",
       "      <th>SILVER</th>\n",
       "    </tr>\n",
       "    <tr>\n",
       "      <th>Date</th>\n",
       "      <th></th>\n",
       "      <th></th>\n",
       "      <th></th>\n",
       "      <th></th>\n",
       "      <th></th>\n",
       "      <th></th>\n",
       "      <th></th>\n",
       "      <th></th>\n",
       "      <th></th>\n",
       "      <th></th>\n",
       "      <th></th>\n",
       "      <th></th>\n",
       "      <th></th>\n",
       "      <th></th>\n",
       "      <th></th>\n",
       "      <th></th>\n",
       "      <th></th>\n",
       "      <th></th>\n",
       "      <th></th>\n",
       "      <th></th>\n",
       "      <th></th>\n",
       "    </tr>\n",
       "  </thead>\n",
       "  <tbody>\n",
       "    <tr>\n",
       "      <th>1960-01-01</th>\n",
       "      <td>1.63</td>\n",
       "      <td>1.63</td>\n",
       "      <td>1.63</td>\n",
       "      <td>…</td>\n",
       "      <td>…</td>\n",
       "      <td>…</td>\n",
       "      <td>0.14</td>\n",
       "      <td>0.404774</td>\n",
       "      <td>…</td>\n",
       "      <td>…</td>\n",
       "      <td>...</td>\n",
       "      <td>511.471832</td>\n",
       "      <td>11.42</td>\n",
       "      <td>715.40</td>\n",
       "      <td>206.1</td>\n",
       "      <td>2180.4</td>\n",
       "      <td>1631.0</td>\n",
       "      <td>260.8</td>\n",
       "      <td>35.27</td>\n",
       "      <td>83.5</td>\n",
       "      <td>0.9137</td>\n",
       "    </tr>\n",
       "    <tr>\n",
       "      <th>1960-02-01</th>\n",
       "      <td>1.63</td>\n",
       "      <td>1.63</td>\n",
       "      <td>1.63</td>\n",
       "      <td>…</td>\n",
       "      <td>…</td>\n",
       "      <td>…</td>\n",
       "      <td>0.14</td>\n",
       "      <td>0.404774</td>\n",
       "      <td>…</td>\n",
       "      <td>…</td>\n",
       "      <td>...</td>\n",
       "      <td>511.471832</td>\n",
       "      <td>11.42</td>\n",
       "      <td>728.19</td>\n",
       "      <td>203.7</td>\n",
       "      <td>2180.4</td>\n",
       "      <td>1631.0</td>\n",
       "      <td>244.9</td>\n",
       "      <td>35.27</td>\n",
       "      <td>83.5</td>\n",
       "      <td>0.9137</td>\n",
       "    </tr>\n",
       "    <tr>\n",
       "      <th>1960-03-01</th>\n",
       "      <td>1.63</td>\n",
       "      <td>1.63</td>\n",
       "      <td>1.63</td>\n",
       "      <td>…</td>\n",
       "      <td>…</td>\n",
       "      <td>…</td>\n",
       "      <td>0.14</td>\n",
       "      <td>0.404774</td>\n",
       "      <td>…</td>\n",
       "      <td>…</td>\n",
       "      <td>...</td>\n",
       "      <td>511.471832</td>\n",
       "      <td>11.42</td>\n",
       "      <td>684.94</td>\n",
       "      <td>210.3</td>\n",
       "      <td>2173.8</td>\n",
       "      <td>1631.0</td>\n",
       "      <td>248.7</td>\n",
       "      <td>35.27</td>\n",
       "      <td>83.5</td>\n",
       "      <td>0.9137</td>\n",
       "    </tr>\n",
       "    <tr>\n",
       "      <th>1960-04-01</th>\n",
       "      <td>1.63</td>\n",
       "      <td>1.63</td>\n",
       "      <td>1.63</td>\n",
       "      <td>…</td>\n",
       "      <td>…</td>\n",
       "      <td>…</td>\n",
       "      <td>0.14</td>\n",
       "      <td>0.404774</td>\n",
       "      <td>…</td>\n",
       "      <td>…</td>\n",
       "      <td>...</td>\n",
       "      <td>511.471832</td>\n",
       "      <td>11.42</td>\n",
       "      <td>723.11</td>\n",
       "      <td>213.6</td>\n",
       "      <td>2178.2</td>\n",
       "      <td>1631.0</td>\n",
       "      <td>254.6</td>\n",
       "      <td>35.27</td>\n",
       "      <td>83.5</td>\n",
       "      <td>0.9137</td>\n",
       "    </tr>\n",
       "    <tr>\n",
       "      <th>1960-05-01</th>\n",
       "      <td>1.63</td>\n",
       "      <td>1.63</td>\n",
       "      <td>1.63</td>\n",
       "      <td>…</td>\n",
       "      <td>…</td>\n",
       "      <td>…</td>\n",
       "      <td>0.14</td>\n",
       "      <td>0.404774</td>\n",
       "      <td>…</td>\n",
       "      <td>…</td>\n",
       "      <td>...</td>\n",
       "      <td>511.471832</td>\n",
       "      <td>11.42</td>\n",
       "      <td>684.75</td>\n",
       "      <td>213.4</td>\n",
       "      <td>2162.7</td>\n",
       "      <td>1631.0</td>\n",
       "      <td>253.8</td>\n",
       "      <td>35.27</td>\n",
       "      <td>83.5</td>\n",
       "      <td>0.9137</td>\n",
       "    </tr>\n",
       "  </tbody>\n",
       "</table>\n",
       "<p>5 rows × 71 columns</p>\n",
       "</div>"
      ],
      "text/plain": [
       "            CRUDE_PETRO  CRUDE_BRENT  CRUDE_DUBAI CRUDE_WTI COAL_AUS  \\\n",
       "Date                                                                   \n",
       "1960-01-01         1.63         1.63         1.63         …        …   \n",
       "1960-02-01         1.63         1.63         1.63         …        …   \n",
       "1960-03-01         1.63         1.63         1.63         …        …   \n",
       "1960-04-01         1.63         1.63         1.63         …        …   \n",
       "1960-05-01         1.63         1.63         1.63         …        …   \n",
       "\n",
       "           COAL_SAFRICA  NGAS_US  NGAS_EUR NGAS_JP iNATGAS  ...    ALUMINUM  \\\n",
       "Date                                                        ...               \n",
       "1960-01-01            …     0.14  0.404774       …       …  ...  511.471832   \n",
       "1960-02-01            …     0.14  0.404774       …       …  ...  511.471832   \n",
       "1960-03-01            …     0.14  0.404774       …       …  ...  511.471832   \n",
       "1960-04-01            …     0.14  0.404774       …       …  ...  511.471832   \n",
       "1960-05-01            …     0.14  0.404774       …       …  ...  511.471832   \n",
       "\n",
       "            IRON_ORE  COPPER   LEAD     Tin  NICKEL   Zinc   GOLD PLATINUM  \\\n",
       "Date                                                                         \n",
       "1960-01-01     11.42  715.40  206.1  2180.4  1631.0  260.8  35.27     83.5   \n",
       "1960-02-01     11.42  728.19  203.7  2180.4  1631.0  244.9  35.27     83.5   \n",
       "1960-03-01     11.42  684.94  210.3  2173.8  1631.0  248.7  35.27     83.5   \n",
       "1960-04-01     11.42  723.11  213.6  2178.2  1631.0  254.6  35.27     83.5   \n",
       "1960-05-01     11.42  684.75  213.4  2162.7  1631.0  253.8  35.27     83.5   \n",
       "\n",
       "            SILVER  \n",
       "Date                \n",
       "1960-01-01  0.9137  \n",
       "1960-02-01  0.9137  \n",
       "1960-03-01  0.9137  \n",
       "1960-04-01  0.9137  \n",
       "1960-05-01  0.9137  \n",
       "\n",
       "[5 rows x 71 columns]"
      ]
     },
     "execution_count": 9,
     "metadata": {},
     "output_type": "execute_result"
    }
   ],
   "source": [
    "df.head()"
   ]
  },
  {
   "cell_type": "code",
   "execution_count": 10,
   "id": "48ffbfee-9555-4efb-bf36-493e238ea005",
   "metadata": {},
   "outputs": [
    {
     "data": {
      "text/plain": [
       "[<matplotlib.lines.Line2D at 0x2a341d9a450>]"
      ]
     },
     "execution_count": 10,
     "metadata": {},
     "output_type": "execute_result"
    },
    {
     "data": {
      "image/png": "[encoded data removed]",
      "text/plain": [
       "<Figure size 640x480 with 1 Axes>"
      ]
     },
     "metadata": {},
     "output_type": "display_data"
    }
   ],
   "source": [
    "plt.plot(df['GOLD'])"
   ]
  },
  {
   "cell_type": "code",
   "execution_count": 11,
   "id": "177713c3-8eb3-4b4d-b725-4675314b7459",
   "metadata": {},
   "outputs": [
    {
     "data": {
      "text/plain": [
       "Index(['CRUDE_PETRO', 'CRUDE_BRENT', 'CRUDE_DUBAI', 'CRUDE_WTI', 'COAL_AUS',\n",
       "       'COAL_SAFRICA', 'NGAS_US', 'NGAS_EUR', 'NGAS_JP', 'iNATGAS', 'COCOA',\n",
       "       'COFFEE_ARABIC', 'COFFEE_ROBUS', 'TEA_AVG', 'TEA_COLOMBO',\n",
       "       'TEA_KOLKATA', 'TEA_MOMBASA', 'COCONUT_OIL', 'GRNUT', 'FISH_MEAL',\n",
       "       'GRNUT_OIL', 'PALM_OIL', 'PLMKRNL_OIL', 'SOYBEANS', 'SOYBEAN_OIL',\n",
       "       'SOYBEAN_MEAL', 'RAPESEED_OIL', 'SUNFLOWER_OIL', 'BARLEY', 'MAIZE',\n",
       "       'SORGHUM', 'RICE_05', 'RICE_25', 'RICE_A1', 'RICE_05_VNM',\n",
       "       'WHEAT_US_SRW', 'WHEAT_US_HRW', 'BANANA_EU', 'BANANA_US', 'ORANGE',\n",
       "       'BEEF', 'CHICKEN', 'LAMB', 'SHRIMP_MEX', 'SUGAR_EU', 'SUGAR_US',\n",
       "       'SUGAR_WLD', 'TOBAC_US', 'LOGS_CMR', 'LOGS_MYS', 'SAWNWD_CMR',\n",
       "       'SAWNWD_MYS', 'PLYWOOD', 'COTTON_A_INDX', 'RUBBER_TSR20',\n",
       "       'RUBBER1_MYSG', 'PHOSROCK', 'DAP', 'TSP', 'UREA_EE_BULK', 'POTASH',\n",
       "       'ALUMINUM', 'IRON_ORE', 'COPPER', 'LEAD', 'Tin', 'NICKEL', 'Zinc',\n",
       "       'GOLD', 'PLATINUM', 'SILVER'],\n",
       "      dtype='object')"
      ]
     },
     "execution_count": 11,
     "metadata": {},
     "output_type": "execute_result"
    }
   ],
   "source": [
    "df.columns"
   ]
  },
  {
   "cell_type": "code",
   "execution_count": 12,
   "id": "42bc1df0-3a95-4dfd-818d-f96bdef489e6",
   "metadata": {},
   "outputs": [],
   "source": [
    "df1 = df[['GOLD']]"
   ]
  },
  {
   "cell_type": "code",
   "execution_count": 13,
   "id": "0c68c912-67f7-4145-814b-41b19b57039e",
   "metadata": {},
   "outputs": [
    {
     "data": {
      "text/html": [
       "<div>\n",
       "<style scoped>\n",
       "    .dataframe tbody tr th:only-of-type {\n",
       "        vertical-align: middle;\n",
       "    }\n",
       "\n",
       "    .dataframe tbody tr th {\n",
       "        vertical-align: top;\n",
       "    }\n",
       "\n",
       "    .dataframe thead th {\n",
       "        text-align: right;\n",
       "    }\n",
       "</style>\n",
       "<table border=\"1\" class=\"dataframe\">\n",
       "  <thead>\n",
       "    <tr style=\"text-align: right;\">\n",
       "      <th></th>\n",
       "      <th>GOLD</th>\n",
       "    </tr>\n",
       "    <tr>\n",
       "      <th>Date</th>\n",
       "      <th></th>\n",
       "    </tr>\n",
       "  </thead>\n",
       "  <tbody>\n",
       "    <tr>\n",
       "      <th>1960-01-01</th>\n",
       "      <td>35.27</td>\n",
       "    </tr>\n",
       "    <tr>\n",
       "      <th>1960-02-01</th>\n",
       "      <td>35.27</td>\n",
       "    </tr>\n",
       "    <tr>\n",
       "      <th>1960-03-01</th>\n",
       "      <td>35.27</td>\n",
       "    </tr>\n",
       "    <tr>\n",
       "      <th>1960-04-01</th>\n",
       "      <td>35.27</td>\n",
       "    </tr>\n",
       "    <tr>\n",
       "      <th>1960-05-01</th>\n",
       "      <td>35.27</td>\n",
       "    </tr>\n",
       "  </tbody>\n",
       "</table>\n",
       "</div>"
      ],
      "text/plain": [
       "             GOLD\n",
       "Date             \n",
       "1960-01-01  35.27\n",
       "1960-02-01  35.27\n",
       "1960-03-01  35.27\n",
       "1960-04-01  35.27\n",
       "1960-05-01  35.27"
      ]
     },
     "execution_count": 13,
     "metadata": {},
     "output_type": "execute_result"
    }
   ],
   "source": [
    "df1.head()"
   ]
  },
  {
   "cell_type": "code",
   "execution_count": 14,
   "id": "81b6ad51-a450-457e-b23b-59fbc27b05da",
   "metadata": {},
   "outputs": [],
   "source": [
    "df2 = df1.values\n",
    "df2 = df2.astype('float32')"
   ]
  },
  {
   "cell_type": "code",
   "execution_count": 15,
   "id": "4f560069-294c-4f89-85fc-40bff87a2f14",
   "metadata": {},
   "outputs": [],
   "source": [
    "##LSTM uses sigmoid and tanh functions that are sensitive to magnitude\n",
    "##normalize the dataset\n",
    "scaler = MinMaxScaler(feature_range=(0, 1)) \n",
    "dataset = scaler.fit_transform(df2)"
   ]
  },
  {
   "cell_type": "code",
   "execution_count": 16,
   "id": "7a7336e8-be0e-4475-b5cf-91a0ac5fa46e",
   "metadata": {},
   "outputs": [
    {
     "data": {
      "text/plain": [
       "(541, 233)"
      ]
     },
     "execution_count": 16,
     "metadata": {},
     "output_type": "execute_result"
    }
   ],
   "source": [
    "train_size = int(len(dataset) * 0.70)\n",
    "test_size = len(dataset) - train_size\n",
    "train, test = dataset[0:train_size,:], dataset[train_size:len(dataset),:]\n",
    "len(train),len(test)"
   ]
  },
  {
   "cell_type": "code",
   "execution_count": 17,
   "id": "1f184c43-b3d4-4c5c-a92d-054035002b6f",
   "metadata": {},
   "outputs": [],
   "source": [
    "def to_sequences(dataset, seq_size=1):\n",
    "    x = []\n",
    "    y = []\n",
    "\n",
    "    for i in range(len(dataset)-seq_size-1):\n",
    "        #print(i)\n",
    "        window = dataset[i:(i+seq_size), 0]\n",
    "        x.append(window)\n",
    "        y.append(dataset[i+seq_size, 0])\n",
    "\n",
    "    return np.array(x),np.array(y)"
   ]
  },
  {
   "cell_type": "code",
   "execution_count": 18,
   "id": "9859e8fa-30f1-4634-8b3a-54a93ea3fd67",
   "metadata": {},
   "outputs": [],
   "source": [
    "seq_size = 5\n",
    "trainX, trainY = to_sequences(train, seq_size)\n",
    "testX, testY = to_sequences(test, seq_size)"
   ]
  },
  {
   "cell_type": "code",
   "execution_count": 19,
   "id": "44852f5d-e616-469e-9b4a-6489663ba61d",
   "metadata": {},
   "outputs": [],
   "source": [
    "trainX = np.reshape(trainX, (trainX.shape[0], 1, trainX.shape[1]))\n",
    "testX = np.reshape(testX, (testX.shape[0], 1, testX.shape[1]))"
   ]
  },
  {
   "cell_type": "code",
   "execution_count": 20,
   "id": "185ea4d3-49fa-494b-9cbe-4edca498dca3",
   "metadata": {},
   "outputs": [
    {
     "name": "stdout",
     "output_type": "stream",
     "text": [
      "Single LSTM with hidden Dense...\n"
     ]
    },
    {
     "data": {
      "text/html": [
       "<pre style=\"white-space:pre;overflow-x:auto;line-height:normal;font-family:Menlo,'DejaVu Sans Mono',consolas,'Courier New',monospace\"><span style=\"font-weight: bold\">Model: \"sequential\"</span>\n",
       "</pre>\n"
      ],
      "text/plain": [
       "\u001b[1mModel: \"sequential\"\u001b[0m\n"
      ]
     },
     "metadata": {},
     "output_type": "display_data"
    },
    {
     "data": {
      "text/html": [
       "<pre style=\"white-space:pre;overflow-x:auto;line-height:normal;font-family:Menlo,'DejaVu Sans Mono',consolas,'Courier New',monospace\">┏━━━━━━━━━━━━━━━━━━━━━━━━━━━━━━━━━┳━━━━━━━━━━━━━━━━━━━━━━━━┳━━━━━━━━━━━━━━━┓\n",
       "┃<span style=\"font-weight: bold\"> Layer (type)                    </span>┃<span style=\"font-weight: bold\"> Output Shape           </span>┃<span style=\"font-weight: bold\">       Param # </span>┃\n",
       "┡━━━━━━━━━━━━━━━━━━━━━━━━━━━━━━━━━╇━━━━━━━━━━━━━━━━━━━━━━━━╇━━━━━━━━━━━━━━━┩\n",
       "│ lstm (<span style=\"color: #0087ff; text-decoration-color: #0087ff\">LSTM</span>)                     │ (<span style=\"color: #00d7ff; text-decoration-color: #00d7ff\">None</span>, <span style=\"color: #00af00; text-decoration-color: #00af00\">64</span>)             │        <span style=\"color: #00af00; text-decoration-color: #00af00\">17,920</span> │\n",
       "├─────────────────────────────────┼────────────────────────┼───────────────┤\n",
       "│ dense (<span style=\"color: #0087ff; text-decoration-color: #0087ff\">Dense</span>)                   │ (<span style=\"color: #00d7ff; text-decoration-color: #00d7ff\">None</span>, <span style=\"color: #00af00; text-decoration-color: #00af00\">32</span>)             │         <span style=\"color: #00af00; text-decoration-color: #00af00\">2,080</span> │\n",
       "├─────────────────────────────────┼────────────────────────┼───────────────┤\n",
       "│ dense_1 (<span style=\"color: #0087ff; text-decoration-color: #0087ff\">Dense</span>)                 │ (<span style=\"color: #00d7ff; text-decoration-color: #00d7ff\">None</span>, <span style=\"color: #00af00; text-decoration-color: #00af00\">1</span>)              │            <span style=\"color: #00af00; text-decoration-color: #00af00\">33</span> │\n",
       "└─────────────────────────────────┴────────────────────────┴───────────────┘\n",
       "</pre>\n"
      ],
      "text/plain": [
       "┏━━━━━━━━━━━━━━━━━━━━━━━━━━━━━━━━━┳━━━━━━━━━━━━━━━━━━━━━━━━┳━━━━━━━━━━━━━━━┓\n",
       "┃\u001b[1m \u001b[0m\u001b[1mLayer (type)                   \u001b[0m\u001b[1m \u001b[0m┃\u001b[1m \u001b[0m\u001b[1mOutput Shape          \u001b[0m\u001b[1m \u001b[0m┃\u001b[1m \u001b[0m\u001b[1m      Param #\u001b[0m\u001b[1m \u001b[0m┃\n",
       "┡━━━━━━━━━━━━━━━━━━━━━━━━━━━━━━━━━╇━━━━━━━━━━━━━━━━━━━━━━━━╇━━━━━━━━━━━━━━━┩\n",
       "│ lstm (\u001b[38;5;33mLSTM\u001b[0m)                     │ (\u001b[38;5;45mNone\u001b[0m, \u001b[38;5;34m64\u001b[0m)             │        \u001b[38;5;34m17,920\u001b[0m │\n",
       "├─────────────────────────────────┼────────────────────────┼───────────────┤\n",
       "│ dense (\u001b[38;5;33mDense\u001b[0m)                   │ (\u001b[38;5;45mNone\u001b[0m, \u001b[38;5;34m32\u001b[0m)             │         \u001b[38;5;34m2,080\u001b[0m │\n",
       "├─────────────────────────────────┼────────────────────────┼───────────────┤\n",
       "│ dense_1 (\u001b[38;5;33mDense\u001b[0m)                 │ (\u001b[38;5;45mNone\u001b[0m, \u001b[38;5;34m1\u001b[0m)              │            \u001b[38;5;34m33\u001b[0m │\n",
       "└─────────────────────────────────┴────────────────────────┴───────────────┘\n"
      ]
     },
     "metadata": {},
     "output_type": "display_data"
    },
    {
     "data": {
      "text/html": [
       "<pre style=\"white-space:pre;overflow-x:auto;line-height:normal;font-family:Menlo,'DejaVu Sans Mono',consolas,'Courier New',monospace\"><span style=\"font-weight: bold\"> Total params: </span><span style=\"color: #00af00; text-decoration-color: #00af00\">20,033</span> (78.25 KB)\n",
       "</pre>\n"
      ],
      "text/plain": [
       "\u001b[1m Total params: \u001b[0m\u001b[38;5;34m20,033\u001b[0m (78.25 KB)\n"
      ]
     },
     "metadata": {},
     "output_type": "display_data"
    },
    {
     "data": {
      "text/html": [
       "<pre style=\"white-space:pre;overflow-x:auto;line-height:normal;font-family:Menlo,'DejaVu Sans Mono',consolas,'Courier New',monospace\"><span style=\"font-weight: bold\"> Trainable params: </span><span style=\"color: #00af00; text-decoration-color: #00af00\">20,033</span> (78.25 KB)\n",
       "</pre>\n"
      ],
      "text/plain": [
       "\u001b[1m Trainable params: \u001b[0m\u001b[38;5;34m20,033\u001b[0m (78.25 KB)\n"
      ]
     },
     "metadata": {},
     "output_type": "display_data"
    },
    {
     "data": {
      "text/html": [
       "<pre style=\"white-space:pre;overflow-x:auto;line-height:normal;font-family:Menlo,'DejaVu Sans Mono',consolas,'Courier New',monospace\"><span style=\"font-weight: bold\"> Non-trainable params: </span><span style=\"color: #00af00; text-decoration-color: #00af00\">0</span> (0.00 B)\n",
       "</pre>\n"
      ],
      "text/plain": [
       "\u001b[1m Non-trainable params: \u001b[0m\u001b[38;5;34m0\u001b[0m (0.00 B)\n"
      ]
     },
     "metadata": {},
     "output_type": "display_data"
    }
   ],
   "source": [
    "print('Single LSTM with hidden Dense...')\n",
    "from keras.callbacks import ModelCheckpoint, EarlyStopping\n",
    "model = Sequential()\n",
    "# Add Input layer to define the input shape\n",
    "model.add(Input(shape=(None, seq_size)))\n",
    "# Add the LSTM layer\n",
    "model.add(LSTM(64))\n",
    "# Add Dense layers\n",
    "model.add(Dense(32))\n",
    "model.add(Dense(1))\n",
    "# Compile the model\n",
    "model.compile(loss='mean_squared_error', optimizer='adam')\n",
    "# Print the model summary\n",
    "model.summary()"
   ]
  },
  {
   "cell_type": "code",
   "execution_count": 21,
   "id": "8bd423e7-f733-4938-8e40-c185a4383611",
   "metadata": {},
   "outputs": [
    {
     "name": "stdout",
     "output_type": "stream",
     "text": [
      "Epoch 1/100\n",
      "17/17 - 2s - 128ms/step - loss: 0.0055 - val_loss: 0.0782\n",
      "Epoch 2/100\n",
      "17/17 - 0s - 6ms/step - loss: 0.0019 - val_loss: 0.0515\n",
      "Epoch 3/100\n",
      "17/17 - 0s - 6ms/step - loss: 5.8513e-04 - val_loss: 0.0021\n",
      "Epoch 4/100\n",
      "17/17 - 0s - 5ms/step - loss: 1.5247e-04 - val_loss: 0.0039\n",
      "Epoch 5/100\n",
      "17/17 - 0s - 5ms/step - loss: 1.4594e-04 - val_loss: 0.0023\n",
      "Epoch 6/100\n",
      "17/17 - 0s - 5ms/step - loss: 1.3722e-04 - val_loss: 0.0014\n",
      "Epoch 7/100\n",
      "17/17 - 0s - 7ms/step - loss: 1.3190e-04 - val_loss: 0.0014\n",
      "Epoch 8/100\n",
      "17/17 - 0s - 7ms/step - loss: 1.2596e-04 - val_loss: 0.0018\n",
      "Epoch 9/100\n",
      "17/17 - 0s - 6ms/step - loss: 1.3067e-04 - val_loss: 0.0014\n",
      "Epoch 10/100\n",
      "17/17 - 0s - 7ms/step - loss: 1.3127e-04 - val_loss: 0.0013\n",
      "Epoch 11/100\n",
      "17/17 - 0s - 8ms/step - loss: 1.2560e-04 - val_loss: 0.0012\n",
      "Epoch 12/100\n",
      "17/17 - 0s - 6ms/step - loss: 1.2580e-04 - val_loss: 0.0012\n",
      "Epoch 13/100\n",
      "17/17 - 0s - 6ms/step - loss: 1.1903e-04 - val_loss: 0.0012\n",
      "Epoch 14/100\n",
      "17/17 - 0s - 6ms/step - loss: 1.1588e-04 - val_loss: 0.0012\n",
      "Epoch 15/100\n",
      "17/17 - 0s - 6ms/step - loss: 1.1954e-04 - val_loss: 0.0013\n",
      "Epoch 16/100\n",
      "17/17 - 0s - 8ms/step - loss: 1.1449e-04 - val_loss: 0.0010\n",
      "Epoch 17/100\n",
      "17/17 - 0s - 8ms/step - loss: 1.1169e-04 - val_loss: 0.0010\n",
      "Epoch 18/100\n",
      "17/17 - 0s - 6ms/step - loss: 1.0917e-04 - val_loss: 9.8423e-04\n",
      "Epoch 19/100\n",
      "17/17 - 0s - 6ms/step - loss: 1.0409e-04 - val_loss: 9.2038e-04\n",
      "Epoch 20/100\n",
      "17/17 - 0s - 9ms/step - loss: 1.0252e-04 - val_loss: 8.9758e-04\n",
      "Epoch 21/100\n",
      "17/17 - 0s - 9ms/step - loss: 1.0435e-04 - val_loss: 8.7102e-04\n",
      "Epoch 22/100\n",
      "17/17 - 0s - 7ms/step - loss: 1.0064e-04 - val_loss: 8.5285e-04\n",
      "Epoch 23/100\n",
      "17/17 - 0s - 7ms/step - loss: 9.7145e-05 - val_loss: 8.7530e-04\n",
      "Epoch 24/100\n",
      "17/17 - 0s - 7ms/step - loss: 9.6513e-05 - val_loss: 8.4619e-04\n",
      "Epoch 25/100\n",
      "17/17 - 0s - 8ms/step - loss: 9.6169e-05 - val_loss: 8.0593e-04\n",
      "Epoch 26/100\n",
      "17/17 - 0s - 8ms/step - loss: 1.0485e-04 - val_loss: 7.9006e-04\n",
      "Epoch 27/100\n",
      "17/17 - 0s - 5ms/step - loss: 9.3033e-05 - val_loss: 7.4473e-04\n",
      "Epoch 28/100\n",
      "17/17 - 0s - 8ms/step - loss: 9.0738e-05 - val_loss: 8.4216e-04\n",
      "Epoch 29/100\n",
      "17/17 - 0s - 7ms/step - loss: 8.8786e-05 - val_loss: 8.5031e-04\n",
      "Epoch 30/100\n",
      "17/17 - 0s - 5ms/step - loss: 8.7518e-05 - val_loss: 7.6662e-04\n",
      "Epoch 31/100\n",
      "17/17 - 0s - 7ms/step - loss: 8.6809e-05 - val_loss: 7.3740e-04\n",
      "Epoch 32/100\n",
      "17/17 - 0s - 10ms/step - loss: 8.5731e-05 - val_loss: 9.2822e-04\n",
      "Epoch 33/100\n",
      "17/17 - 0s - 9ms/step - loss: 8.0446e-05 - val_loss: 8.2754e-04\n",
      "Epoch 34/100\n",
      "17/17 - 0s - 6ms/step - loss: 7.9670e-05 - val_loss: 8.0132e-04\n",
      "Epoch 35/100\n",
      "17/17 - 0s - 8ms/step - loss: 8.2327e-05 - val_loss: 0.0011\n",
      "Epoch 36/100\n",
      "17/17 - 0s - 8ms/step - loss: 8.8251e-05 - val_loss: 7.5106e-04\n",
      "Epoch 37/100\n",
      "17/17 - 0s - 9ms/step - loss: 7.9682e-05 - val_loss: 0.0014\n",
      "Epoch 38/100\n",
      "17/17 - 0s - 7ms/step - loss: 7.6377e-05 - val_loss: 7.8710e-04\n",
      "Epoch 39/100\n",
      "17/17 - 0s - 7ms/step - loss: 8.3435e-05 - val_loss: 0.0017\n",
      "Epoch 40/100\n",
      "17/17 - 0s - 5ms/step - loss: 7.6407e-05 - val_loss: 9.8495e-04\n",
      "Epoch 41/100\n",
      "17/17 - 0s - 6ms/step - loss: 8.0525e-05 - val_loss: 0.0012\n",
      "Epoch 42/100\n",
      "17/17 - 0s - 7ms/step - loss: 7.8815e-05 - val_loss: 0.0017\n",
      "Epoch 43/100\n",
      "17/17 - 0s - 6ms/step - loss: 9.0700e-05 - val_loss: 0.0020\n",
      "Epoch 44/100\n",
      "17/17 - 0s - 6ms/step - loss: 7.2146e-05 - val_loss: 0.0012\n",
      "Epoch 45/100\n",
      "17/17 - 0s - 8ms/step - loss: 8.3410e-05 - val_loss: 0.0020\n",
      "Epoch 46/100\n",
      "17/17 - 0s - 6ms/step - loss: 7.2969e-05 - val_loss: 0.0018\n",
      "Epoch 47/100\n",
      "17/17 - 0s - 7ms/step - loss: 7.1859e-05 - val_loss: 0.0025\n",
      "Epoch 48/100\n",
      "17/17 - 0s - 5ms/step - loss: 7.5148e-05 - val_loss: 0.0022\n",
      "Epoch 49/100\n",
      "17/17 - 0s - 6ms/step - loss: 6.8477e-05 - val_loss: 0.0014\n",
      "Epoch 50/100\n",
      "17/17 - 0s - 7ms/step - loss: 7.0200e-05 - val_loss: 0.0028\n",
      "Epoch 51/100\n",
      "17/17 - 0s - 6ms/step - loss: 6.5889e-05 - val_loss: 0.0019\n",
      "Epoch 52/100\n",
      "17/17 - 0s - 8ms/step - loss: 6.7551e-05 - val_loss: 0.0022\n",
      "Epoch 53/100\n",
      "17/17 - 0s - 7ms/step - loss: 7.9089e-05 - val_loss: 0.0031\n",
      "Epoch 54/100\n",
      "17/17 - 0s - 7ms/step - loss: 6.9062e-05 - val_loss: 0.0029\n",
      "Epoch 55/100\n",
      "17/17 - 0s - 5ms/step - loss: 6.9835e-05 - val_loss: 0.0038\n",
      "Epoch 56/100\n",
      "17/17 - 0s - 8ms/step - loss: 7.8268e-05 - val_loss: 0.0034\n",
      "Epoch 57/100\n",
      "17/17 - 0s - 5ms/step - loss: 7.5813e-05 - val_loss: 0.0025\n",
      "Epoch 58/100\n",
      "17/17 - 0s - 6ms/step - loss: 7.0055e-05 - val_loss: 0.0025\n",
      "Epoch 59/100\n",
      "17/17 - 0s - 6ms/step - loss: 8.4458e-05 - val_loss: 0.0032\n",
      "Epoch 60/100\n",
      "17/17 - 0s - 8ms/step - loss: 6.8106e-05 - val_loss: 0.0039\n",
      "Epoch 61/100\n",
      "17/17 - 0s - 6ms/step - loss: 6.7500e-05 - val_loss: 0.0039\n",
      "Epoch 62/100\n",
      "17/17 - 0s - 6ms/step - loss: 7.1797e-05 - val_loss: 0.0047\n",
      "Epoch 63/100\n",
      "17/17 - 0s - 5ms/step - loss: 6.8065e-05 - val_loss: 0.0039\n",
      "Epoch 64/100\n",
      "17/17 - 0s - 7ms/step - loss: 6.2958e-05 - val_loss: 0.0041\n",
      "Epoch 65/100\n",
      "17/17 - 0s - 8ms/step - loss: 6.2769e-05 - val_loss: 0.0035\n",
      "Epoch 66/100\n",
      "17/17 - 0s - 6ms/step - loss: 6.5209e-05 - val_loss: 0.0041\n",
      "Epoch 67/100\n",
      "17/17 - 0s - 6ms/step - loss: 6.4259e-05 - val_loss: 0.0052\n",
      "Epoch 68/100\n",
      "17/17 - 0s - 7ms/step - loss: 6.1857e-05 - val_loss: 0.0039\n",
      "Epoch 69/100\n",
      "17/17 - 0s - 7ms/step - loss: 6.2811e-05 - val_loss: 0.0053\n",
      "Epoch 70/100\n",
      "17/17 - 0s - 7ms/step - loss: 6.6966e-05 - val_loss: 0.0046\n",
      "Epoch 71/100\n",
      "17/17 - 0s - 9ms/step - loss: 7.1944e-05 - val_loss: 0.0059\n",
      "Epoch 72/100\n",
      "17/17 - 0s - 8ms/step - loss: 7.2717e-05 - val_loss: 0.0072\n",
      "Epoch 73/100\n",
      "17/17 - 0s - 7ms/step - loss: 6.4658e-05 - val_loss: 0.0040\n",
      "Epoch 74/100\n",
      "17/17 - 0s - 8ms/step - loss: 6.5872e-05 - val_loss: 0.0050\n",
      "Epoch 75/100\n",
      "17/17 - 0s - 6ms/step - loss: 6.0612e-05 - val_loss: 0.0056\n",
      "Epoch 76/100\n",
      "17/17 - 0s - 8ms/step - loss: 6.1645e-05 - val_loss: 0.0078\n",
      "Epoch 77/100\n",
      "17/17 - 0s - 8ms/step - loss: 7.2015e-05 - val_loss: 0.0053\n",
      "Epoch 78/100\n",
      "17/17 - 0s - 7ms/step - loss: 5.9165e-05 - val_loss: 0.0056\n",
      "Epoch 79/100\n",
      "17/17 - 0s - 8ms/step - loss: 6.6121e-05 - val_loss: 0.0051\n",
      "Epoch 80/100\n",
      "17/17 - 0s - 8ms/step - loss: 5.9008e-05 - val_loss: 0.0058\n",
      "Epoch 81/100\n",
      "17/17 - 0s - 7ms/step - loss: 5.8723e-05 - val_loss: 0.0062\n",
      "Epoch 82/100\n",
      "17/17 - 0s - 6ms/step - loss: 6.0986e-05 - val_loss: 0.0054\n",
      "Epoch 83/100\n",
      "17/17 - 0s - 5ms/step - loss: 5.8926e-05 - val_loss: 0.0073\n",
      "Epoch 84/100\n",
      "17/17 - 0s - 7ms/step - loss: 5.7476e-05 - val_loss: 0.0065\n",
      "Epoch 85/100\n",
      "17/17 - 0s - 8ms/step - loss: 5.7125e-05 - val_loss: 0.0078\n",
      "Epoch 86/100\n",
      "17/17 - 0s - 8ms/step - loss: 6.1403e-05 - val_loss: 0.0058\n",
      "Epoch 87/100\n",
      "17/17 - 0s - 6ms/step - loss: 5.8759e-05 - val_loss: 0.0069\n",
      "Epoch 88/100\n",
      "17/17 - 0s - 12ms/step - loss: 6.8582e-05 - val_loss: 0.0055\n",
      "Epoch 89/100\n",
      "17/17 - 0s - 7ms/step - loss: 6.9859e-05 - val_loss: 0.0063\n",
      "Epoch 90/100\n",
      "17/17 - 0s - 6ms/step - loss: 5.9537e-05 - val_loss: 0.0095\n",
      "Epoch 91/100\n",
      "17/17 - 0s - 7ms/step - loss: 6.2227e-05 - val_loss: 0.0058\n",
      "Epoch 92/100\n",
      "17/17 - 0s - 11ms/step - loss: 6.0966e-05 - val_loss: 0.0064\n",
      "Epoch 93/100\n",
      "17/17 - 0s - 8ms/step - loss: 5.9859e-05 - val_loss: 0.0062\n",
      "Epoch 94/100\n",
      "17/17 - 0s - 7ms/step - loss: 5.9036e-05 - val_loss: 0.0050\n",
      "Epoch 95/100\n",
      "17/17 - 0s - 7ms/step - loss: 9.4003e-05 - val_loss: 0.0046\n",
      "Epoch 96/100\n",
      "17/17 - 0s - 5ms/step - loss: 6.9815e-05 - val_loss: 0.0079\n",
      "Epoch 97/100\n",
      "17/17 - 0s - 6ms/step - loss: 5.5714e-05 - val_loss: 0.0078\n",
      "Epoch 98/100\n",
      "17/17 - 0s - 6ms/step - loss: 5.7117e-05 - val_loss: 0.0063\n",
      "Epoch 99/100\n",
      "17/17 - 0s - 6ms/step - loss: 5.7670e-05 - val_loss: 0.0092\n",
      "Epoch 100/100\n",
      "17/17 - 0s - 6ms/step - loss: 5.8286e-05 - val_loss: 0.0090\n"
     ]
    },
    {
     "data": {
      "text/plain": [
       "<keras.src.callbacks.history.History at 0x2a341a02d10>"
      ]
     },
     "execution_count": 21,
     "metadata": {},
     "output_type": "execute_result"
    }
   ],
   "source": [
    "model.fit(trainX, trainY, validation_data=(testX, testY),\n",
    "          verbose=2, epochs=100)"
   ]
  },
  {
   "cell_type": "code",
   "execution_count": 22,
   "id": "385fa388-a113-47f8-a34a-02ea092e35da",
   "metadata": {},
   "outputs": [
    {
     "name": "stdout",
     "output_type": "stream",
     "text": [
      "\u001b[1m17/17\u001b[0m \u001b[32m━━━━━━━━━━━━━━━━━━━━\u001b[0m\u001b[37m\u001b[0m \u001b[1m0s\u001b[0m 11ms/step\n",
      "\u001b[1m8/8\u001b[0m \u001b[32m━━━━━━━━━━━━━━━━━━━━\u001b[0m\u001b[37m\u001b[0m \u001b[1m0s\u001b[0m 1ms/step \n"
     ]
    }
   ],
   "source": [
    "###Make predictions\n",
    "trainPredict = model.predict(trainX)\n",
    "testPredict = model.predict(testX)"
   ]
  },
  {
   "cell_type": "code",
   "execution_count": 23,
   "id": "ce697076-1bd8-481b-b920-df3647827ee4",
   "metadata": {},
   "outputs": [],
   "source": [
    "###Do inverse\n",
    "trainPredict = scaler.inverse_transform(trainPredict)\n",
    "trainY = scaler.inverse_transform([trainY])\n",
    "testPredict = scaler.inverse_transform(testPredict)\n",
    "testY = scaler.inverse_transform([testY])"
   ]
  },
  {
   "cell_type": "code",
   "execution_count": 24,
   "id": "f8c34259-ef99-419c-ba21-6b881d4eb152",
   "metadata": {},
   "outputs": [
    {
     "name": "stdout",
     "output_type": "stream",
     "text": [
      "Train Score: 18.28 RMSE\n",
      "Test Score: 219.62 RMSE\n"
     ]
    }
   ],
   "source": [
    "trainScore = math.sqrt(mean_squared_error(trainY[0], trainPredict[:,0]))\n",
    "print('Train Score: %.2f RMSE' % (trainScore))\n",
    "testScore = math.sqrt(mean_squared_error(testY[0], testPredict[:,0]))\n",
    "print('Test Score: %.2f RMSE' % (testScore))"
   ]
  },
  {
   "cell_type": "code",
   "execution_count": 25,
   "id": "e9d3a4c7-81e2-4065-907f-cc16e7f23a6f",
   "metadata": {
    "scrolled": true
   },
   "outputs": [
    {
     "data": {
      "text/plain": [
       "0.12702115578761183"
      ]
     },
     "execution_count": 25,
     "metadata": {},
     "output_type": "execute_result"
    }
   ],
   "source": [
    "####MAE\n",
    "from sklearn.metrics import mean_absolute_error as mae\n",
    "MAE_Train=mae(trainY[0], trainPredict[:,0])\n",
    "MAE_Test=mae(testY[0], testPredict[:,0])\n",
    "MAE_Train \n",
    "MAE_Test\n",
    "\n",
    "###MAPE\n",
    "from sklearn.metrics import mean_absolute_percentage_error as mape\n",
    "MAPE_Train=mape(trainY[0], trainPredict[:,0])\n",
    "MAPE_Train\n",
    "MAPE_Test=mape(testY[0], testPredict[:,0])\n",
    "MAPE_Test"
   ]
  },
  {
   "cell_type": "code",
   "execution_count": 26,
   "id": "e3212100-2cc1-48df-b234-f8f8ed936152",
   "metadata": {},
   "outputs": [],
   "source": [
    "# shift train predictions for plotting\n",
    "#we must shift the predictions so that they align on the x-axis with the original dataset. \n",
    "trainPredictPlot = np.empty_like(dataset)\n",
    "trainPredictPlot[:, :] = np.nan\n",
    "trainPredictPlot[seq_size:len(trainPredict)+seq_size, :] = trainPredict\n",
    "# shift test predictions for plotting\n",
    "testPredictPlot = np.empty_like(dataset)\n",
    "testPredictPlot[:, :] = np.nan\n",
    "testPredictPlot[len(trainPredict)+(seq_size*2)+1:len(dataset)-1, :] = testPredict"
   ]
  },
  {
   "cell_type": "code",
   "execution_count": 27,
   "id": "8af80622-a2b0-4c2d-959c-8ceefdbd7a41",
   "metadata": {},
   "outputs": [
    {
     "data": {
      "image/png": "[encoded data removed]",
      "text/plain": [
       "<Figure size 640x480 with 1 Axes>"
      ]
     },
     "metadata": {},
     "output_type": "display_data"
    }
   ],
   "source": [
    "##Plot baseline and predictions\n",
    "f_data= scaler.inverse_transform(dataset)\n",
    "train = trainPredictPlot\n",
    "test = testPredictPlot\n",
    "\n",
    "# plot baseline and predictions\n",
    "plt.plot(f_data, label=\"Actual\")\n",
    "plt.plot(test, label=\"Predict\")\n",
    "plt.legend()\n",
    "plt.show()"
   ]
  },
  {
   "cell_type": "code",
   "execution_count": 28,
   "id": "455eee37-5c98-4ad1-a266-f3902808fc32",
   "metadata": {},
   "outputs": [],
   "source": [
    "actual_data = pd.DataFrame(f_data)\n",
    "test_data = pd.DataFrame(testPredictPlot)\n",
    "df = pd.DataFrame()\n",
    "df['actual'] = actual_data\n",
    "df['test'] = test_data\n",
    "import os\n",
    "os.getcwd()\n",
    "df.to_csv(\"lstm10.csv\")"
   ]
  },
  {
   "cell_type": "code",
   "execution_count": 29,
   "id": "54716acb-f1b1-4641-be78-8007163e2569",
   "metadata": {},
   "outputs": [
    {
     "data": {
      "image/png": "[encoded data removed]",
      "text/plain": [
       "<Figure size 640x480 with 1 Axes>"
      ]
     },
     "metadata": {},
     "output_type": "display_data"
    }
   ],
   "source": [
    "plt.plot(f_data, label=\"Actual\")\n",
    "plt.plot(test, label=\"Predicted\")\n",
    "plt.legend()\n",
    "plt.show()"
   ]
  },
  {
   "cell_type": "code",
   "execution_count": null,
   "id": "42b5d838",
   "metadata": {},
   "outputs": [],
   "source": []
  }
 ],
 "metadata": {
  "kernelspec": {
   "display_name": "Python 3 (ipykernel)",
   "language": "python",
   "name": "python3"
  },
  "language_info": {
   "codemirror_mode": {
    "name": "ipython",
    "version": 3
   },
   "file_extension": ".py",
   "mimetype": "text/x-python",
   "name": "python",
   "nbconvert_exporter": "python",
   "pygments_lexer": "ipython3",
   "version": "3.11.7"
  }
 },
 "nbformat": 4,
 "nbformat_minor": 5
}
